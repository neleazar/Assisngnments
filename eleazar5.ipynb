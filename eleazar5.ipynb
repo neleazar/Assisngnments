{
 "cells": [
  {
   "cell_type": "code",
   "execution_count": 4,
   "id": "93ad6d81",
   "metadata": {},
   "outputs": [
    {
     "name": "stdout",
     "output_type": "stream",
     "text": [
      "Details of Student1 is  ('ABC', 10, 1)\n"
     ]
    }
   ],
   "source": [
    "class Student:\n",
    "    def __init__(self, name, age, grade):\n",
    "        self.name = name\n",
    "        self.age = age\n",
    "        self.grade = grade\n",
    "    def set_name(self, name):\n",
    "        self.name = name\n",
    "    \n",
    "    def set_age(self, age):\n",
    "        self.age = age\n",
    "    \n",
    "    def set_grade(self, grade):\n",
    "        self.grade = grade    \n",
    "\n",
    "    def get_name(self):\n",
    "        return self.name\n",
    "    \n",
    "    def get_age(self):\n",
    "        return self.age\n",
    "    \n",
    "    def get_grade(self):\n",
    "        return self.grade\n",
    "    def get_student(self):\n",
    "        return (self.name, self.age, self.grade)\n",
    "    \n",
    "s1 = Student(\"ABC\", 10, 1)\n",
    "print(\"Details of Student1 is \", s1.get_student())"
   ]
  },
  {
   "cell_type": "code",
   "execution_count": 12,
   "id": "2969987b",
   "metadata": {},
   "outputs": [
    {
     "name": "stdout",
     "output_type": "stream",
     "text": [
      "<class 'int'> <class 'str'>\n",
      "<class 'type'>\n",
      "<class 'type'>\n",
      "<class 'type'>\n",
      "<class 'type'>\n",
      "<class 'builtin_function_or_method'>\n",
      "<class 'function'>\n",
      "<class 'type'>\n"
     ]
    }
   ],
   "source": [
    "a = 5\n",
    "b = \"Some String\"\n",
    "print(type(a), type(b))\n",
    "\n",
    "def somefunction():\n",
    "    return\n",
    "class SomeClass:\n",
    "    pass\n",
    "someList = [int, str, type, dict, print, somefunction, SomeClass]\n",
    "\n",
    "for item in someList:\n",
    "    print(type(item))\n"
   ]
  },
  {
   "cell_type": "code",
   "execution_count": 15,
   "id": "a0932ca3",
   "metadata": {},
   "outputs": [
    {
     "name": "stdout",
     "output_type": "stream",
     "text": [
      "<class 'int'>\n",
      "<class 'str'>\n",
      "<class 'tuple'>\n",
      "<class 'dict'>\n",
      "<class 'NoneType'>\n",
      "<class '__main__.Myclass'>\n"
     ]
    }
   ],
   "source": [
    "def funct():\n",
    "    return\n",
    "\n",
    "class Myclass:\n",
    "    pass\n",
    "\n",
    "anotherList = [int(), str(), tuple(), dict(), funct(), Myclass()]\n",
    "for item in anotherList:\n",
    "    print(type(item))"
   ]
  },
  {
   "cell_type": "code",
   "execution_count": null,
   "id": "ce21163f",
   "metadata": {},
   "outputs": [],
   "source": []
  }
 ],
 "metadata": {
  "kernelspec": {
   "display_name": "Python 3 (ipykernel)",
   "language": "python",
   "name": "python3"
  },
  "language_info": {
   "codemirror_mode": {
    "name": "ipython",
    "version": 3
   },
   "file_extension": ".py",
   "mimetype": "text/x-python",
   "name": "python",
   "nbconvert_exporter": "python",
   "pygments_lexer": "ipython3",
   "version": "3.9.13"
  }
 },
 "nbformat": 4,
 "nbformat_minor": 5
}
