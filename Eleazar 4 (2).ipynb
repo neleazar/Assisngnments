{
 "cells": [
  {
   "cell_type": "markdown",
   "id": "1a486f90",
   "metadata": {},
   "source": [
    "# Assignment 4"
   ]
  },
  {
   "cell_type": "code",
   "execution_count": null,
   "id": "eea0cc0d",
   "metadata": {},
   "outputs": [],
   "source": [
    "my_list = [1, 2, 3, 4, 5]\n",
    "my_iterator = iter(my_list)\n",
    "\n",
    "while True:\n",
    "    try:\n",
    "        item = next(my_iterator)\n",
    "        print(item)\n",
    "    except StopIteration:\n",
    "        print(\"End of iterator\")\n",
    "        break\n"
   ]
  },
  {
   "cell_type": "code",
   "execution_count": null,
   "id": "1e7651d7",
   "metadata": {},
   "outputs": [],
   "source": [
    "import itertools\n",
    "\n",
    "# Create an infinite iterator using count\n",
    "count_iterator = itertools.count()\n",
    "\n",
    "# Print the first 10 values of the count iterator\n",
    "for i in range(10):\n",
    "    print(next(count_iterator))\n",
    "\n",
    "# Create an infinite iterator using cycle\n",
    "cycle_iterator = itertools.cycle(['a', 'b', 'c'])\n",
    "\n",
    "# Print the first 10 values of the cycle iterator\n",
    "for i in range(10):\n",
    "    print(next(cycle_iterator))\n",
    "\n",
    "# Create an infinite iterator using repeat\n",
    "repeat_iterator = itertools.repeat('hello')\n",
    "\n",
    "# Print the first 10 values of the repeat iterator\n",
    "for i in range(10):\n",
    "    print(next(repeat_iterator))\n"
   ]
  },
  {
   "cell_type": "code",
   "execution_count": null,
   "id": "c53ecb12",
   "metadata": {},
   "outputs": [],
   "source": [
    "import itertools\n",
    "\n",
    "# Define two lists of different lengths\n",
    "list1 = [1, 2, 3, 4, 5]\n",
    "list2 = ['a', 'b', 'c']\n",
    "\n",
    "# Use zip_longest to iterate over the two lists in parallel, filling in missing values with None\n",
    "for pair in itertools.zip_longest(list1, list2):\n",
    "    print(pair)\n",
    "\n",
    "# Use islice to iterate over a slice of a list\n",
    "list3 = [10, 20, 30, 40, 50]\n",
    "for item in itertools.islice(list3, 2, 4):\n",
    "    print(item)\n",
    "\n",
    "# Use takewhile to iterate over values from a list until a certain condition is met\n",
    "list4 = [1, 2, 3, 4, 5, 6]\n",
    "for item in itertools.takewhile(lambda x: x < 4, list4):\n",
    "    print(item)\n",
    "\n",
    "# Use dropwhile to skip values from a list until a certain condition is met\n",
    "list5 = [1, 2, 3, 4, 5, 6]\n",
    "for item in itertools.dropwhile(lambda x: x < 4, list5):\n",
    "    print(item)\n"
   ]
  },
  {
   "cell_type": "code",
   "execution_count": null,
   "id": "9e002530",
   "metadata": {},
   "outputs": [],
   "source": [
    "import itertools\n",
    "lst = ['a', 'b', 'c', 'd']\n",
    "for combo in itertools.combinations(lst, 3):\n",
    "    print(combo)\n",
    "    \n",
    "lst = ['a', 'b', 'c']\n",
    "for combo in itertools.combinations_with_replacement(lst, 3):\n",
    "    print('with replacement',combo)\n"
   ]
  },
  {
   "cell_type": "code",
   "execution_count": null,
   "id": "0d5b9716",
   "metadata": {},
   "outputs": [],
   "source": [
    "import re\n",
    "\n",
    "# Define the regex pattern\n",
    "pattern = r'\\b[A-Za-z0-9._%+-]+@[A-Za-z0-9.-]+\\.[A-Z|a-z]{2,}\\b'\n",
    "\n",
    "# Define the string to search\n",
    "text = 'Contact us at support@example.com or feedback@example.net'\n",
    "\n",
    "# Search for matches using the regex pattern\n",
    "matches = re.findall(pattern, text)\n",
    "\n",
    "# Print the matches\n",
    "print(matches)\n"
   ]
  },
  {
   "cell_type": "code",
   "execution_count": null,
   "id": "6aa1e272",
   "metadata": {},
   "outputs": [],
   "source": [
    "# Constructing output list WITHOUT\n",
    "# Using List comprehensions\n",
    "old_list = [1, 2, 3, 4, 4, 5, 6, 7, 8, 9, 10]\n",
    "\n",
    "new_list = []\n",
    "\n",
    "# Using loop for constructing output list\n",
    "for var in old_list:\n",
    "    if var % 2 != 0:\n",
    "        new_list.append(var)\n",
    "\n",
    "print(\"New List using for loop:\", new_list)"
   ]
  },
  {
   "cell_type": "code",
   "execution_count": null,
   "id": "877d0974",
   "metadata": {},
   "outputs": [],
   "source": [
    "n = 6  # the number for which we want to create the multiplication table\n",
    "\n",
    "# using list comprehension to create the multiplication table\n",
    "table = [i*n for i in range(1, 11)]\n",
    "\n",
    "# printing the multiplication table\n",
    "print(f\"Multiplication table of {n}: {table}\")"
   ]
  },
  {
   "cell_type": "code",
   "execution_count": null,
   "id": "7aecc548",
   "metadata": {},
   "outputs": [],
   "source": [
    "# using list comprehension to find all numbers from 1 to 500 that contain the digit 5\n",
    "numbers = [i for i in range(1, 501) if '5' in str(i)]\n",
    "\n",
    "# printing the numbers that contain the digit 5\n",
    "print(\"Numbers that contain the digit 5:\")\n",
    "print(numbers)"
   ]
  },
  {
   "cell_type": "code",
   "execution_count": null,
   "id": "24c2b9d1",
   "metadata": {},
   "outputs": [],
   "source": [
    "items = [\"apple\", True, 10, \"banana\", 20, 30, 4.0, \"grapes\", \"laptop\", \"phone\", False, 0]\n",
    "\n",
    "# using list comprehension to generate a list of non-string values\n",
    "non_string_values = [i for i in items if not isinstance(i, str)]\n",
    "\n",
    "# printing the list of non-string values\n",
    "print(\"List of non-string values:\")\n",
    "print(non_string_values)\n"
   ]
  },
  {
   "cell_type": "code",
   "execution_count": null,
   "id": "98e127fd",
   "metadata": {},
   "outputs": [],
   "source": [
    "items = [\"apple\", True, 10, \"banana\", 20, 30, 4.0, \"grapes\", \"laptop\", \"phone\", False, 0]\n",
    "\n",
    "# using list comprehension to generate a list of boolean values\n",
    "is_numeric = [isinstance(item, (int, float)) for item in items]\n",
    "\n",
    "# printing the list of boolean values\n",
    "print(\"List of boolean values where True represents numeric values and False represents non-numeric values:\")\n",
    "print(is_numeric)\n"
   ]
  },
  {
   "cell_type": "code",
   "execution_count": null,
   "id": "12d9d96f",
   "metadata": {},
   "outputs": [],
   "source": [
    "files = [\"cat1.png\", \"dog1.png\", \"cat2.png\", \"cat3.png\", \"cat4.png\", \"dog2.png\", \"cat5.png\", \"cat6.png\", \"dog3.png\"]\n",
    "\n",
    "# using list comprehension to generate a list of cat filenames and dog filenames\n",
    "cat_files = [i for i in files if i.startswith(\"cat\")]\n",
    "dog_files = [i for i in files if i.startswith(\"dog\")]\n",
    "\n",
    "# printing the lists of cat filenames and dog filenames\n",
    "print(\"Cat files:\")\n",
    "print(cat_files)\n",
    "print(\"Dog files:\")\n",
    "print(dog_files)\n"
   ]
  },
  {
   "cell_type": "code",
   "execution_count": null,
   "id": "c94be49e",
   "metadata": {},
   "outputs": [],
   "source": [
    "template = 'AATCCGAAAATTCGGGAATTTTCGCGT'\n",
    "\n",
    "# Define a dictionary mapping each nucleotide to its complementary nucleotide\n",
    "complements = {'A': 'T', 'T': 'A', 'C': 'G', 'G': 'C'}\n",
    "\n",
    "# Generate the complementary template using list comprehension\n",
    "complementary_template = ''.join([complements[nucleotide] for nucleotide in template])\n",
    "\n",
    "# Print the complementary template\n",
    "print(complementary_template)"
   ]
  },
  {
   "cell_type": "code",
   "execution_count": null,
   "id": "5fc264b4",
   "metadata": {},
   "outputs": [],
   "source": [
    "import time\n",
    "start_time = time.time()\n",
    "\n",
    "nums = []\n",
    "for i in range(1, 10000001):\n",
    "    nums.append(i**2)\n",
    "\n",
    "end_time = time.time()\n",
    "for_loop_time = end_time - start_time\n",
    "\n",
    "start_time = time.time()\n",
    "nums = []\n",
    "nums = [i**2 for i in range(1, 10000001)]\n",
    "\n",
    "end_time = time.time()\n",
    "list_comp_time = end_time - start_time\n",
    "\n",
    "print(\"For loop time\", for_loop_time)\n",
    "\n",
    "print(\"List comprehension time\", list_comp_time)\n"
   ]
  },
  {
   "cell_type": "code",
   "execution_count": null,
   "id": "a165d6b8",
   "metadata": {},
   "outputs": [],
   "source": []
  }
 ],
 "metadata": {
  "kernelspec": {
   "display_name": "Python 3 (ipykernel)",
   "language": "python",
   "name": "python3"
  },
  "language_info": {
   "codemirror_mode": {
    "name": "ipython",
    "version": 3
   },
   "file_extension": ".py",
   "mimetype": "text/x-python",
   "name": "python",
   "nbconvert_exporter": "python",
   "pygments_lexer": "ipython3",
   "version": "3.9.13"
  }
 },
 "nbformat": 4,
 "nbformat_minor": 5
}
