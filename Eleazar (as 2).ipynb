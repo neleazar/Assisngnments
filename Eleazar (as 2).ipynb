{
 "cells": [
  {
   "cell_type": "markdown",
   "id": "2c4c69ef",
   "metadata": {},
   "source": [
    "# Question 1"
   ]
  },
  {
   "cell_type": "markdown",
   "id": "e8c877ac",
   "metadata": {},
   "source": [
    "# If elif else"
   ]
  },
  {
   "cell_type": "code",
   "execution_count": 3,
   "id": "d1871d44",
   "metadata": {},
   "outputs": [
    {
     "name": "stdout",
     "output_type": "stream",
     "text": [
      "x is greater than 20\n"
     ]
    }
   ],
   "source": [
    "#\n",
    "x = 20\n",
    "\n",
    "if x<20:\n",
    "    print(\"x is less than 20\")\n",
    "else:\n",
    "    print(\"x is greater than 20\")\n",
    "\n"
   ]
  },
  {
   "cell_type": "markdown",
   "id": "ba4bb9a5",
   "metadata": {},
   "source": [
    "# If elif else"
   ]
  },
  {
   "cell_type": "code",
   "execution_count": 8,
   "id": "d6540d85",
   "metadata": {},
   "outputs": [
    {
     "name": "stdout",
     "output_type": "stream",
     "text": [
      "Enter a number3\n",
      "x is less than 20\n"
     ]
    }
   ],
   "source": [
    "x = int(input(\"Enter a number\"))\n",
    "\n",
    "\n",
    "if x<20:\n",
    "    print(\"x is less than 20\")\n",
    "elif x == 20:\n",
    "    print(\"x is equal to 20\")\n",
    "else:\n",
    "    print(\"x is greater than 20\")"
   ]
  },
  {
   "cell_type": "markdown",
   "id": "bf290349",
   "metadata": {},
   "source": [
    "# Question 2"
   ]
  },
  {
   "cell_type": "code",
   "execution_count": null,
   "id": "a6f16f17",
   "metadata": {},
   "outputs": [],
   "source": [
    "import math\n",
    "\n",
    "radius = input(\"Enter the radius of the circle: \")\n",
    "\n",
    "if radius.isnumeric():\n",
    "    area = math.pi * (int(radius) ** 2)\n",
    "    print(\"The area of the circle is:\", area)\n",
    "else:\n",
    "    print(\"Invalid input. Please enter a numeric value.\")\n"
   ]
  },
  {
   "cell_type": "code",
   "execution_count": 10,
   "id": "5388acb9",
   "metadata": {},
   "outputs": [
    {
     "name": "stdout",
     "output_type": "stream",
     "text": [
      "Enter the radius of the circle: 6\n",
      "Enter 'A' to calculate area or 'P' to calculate perimeter: A\n",
      "The area of the circle is: 113.09733552923255\n"
     ]
    }
   ],
   "source": [
    "import math\n",
    "\n",
    "radius = input(\"Enter the radius of the circle: \")\n",
    "\n",
    "if radius.isnumeric():\n",
    "    radius = int(radius)\n",
    "    option = input(\"Enter 'A' to calculate area or 'P' to calculate perimeter: \").upper()\n",
    "    if option == 'A':\n",
    "        area = math.pi * (radius ** 2)\n",
    "        print(\"The area of the circle is:\", area)\n",
    "    elif option == 'P':\n",
    "        perimeter = 2 * math.pi * radius\n",
    "        print(\"The perimeter of the circle is:\", perimeter)\n",
    "    else:\n",
    "        print(\"Invalid input. Please enter 'A' or 'P'.\")\n",
    "else:\n",
    "    print(\"Invalid input. Please enter a numeric value.\")\n"
   ]
  },
  {
   "cell_type": "markdown",
   "id": "bcb51ffa",
   "metadata": {},
   "source": [
    "# Question 4"
   ]
  },
  {
   "cell_type": "code",
   "execution_count": 9,
   "id": "10d6bcb4",
   "metadata": {},
   "outputs": [
    {
     "name": "stdout",
     "output_type": "stream",
     "text": [
      "Updated courses for Maria: ['Python', 'Database']\n"
     ]
    }
   ],
   "source": [
    "students_profile = {'Duy': ['Python', 'Database', 'ML'], \n",
    "                    'Laxmi': ['Python', 'Database', 'ML'], \n",
    "                    'Antonio': ['Python', 'Database', 'ML'],\n",
    "                    'Maria': ['Python', 'Database', 'ML']}\n",
    "\n",
    "if 'Maria' in students_profile:\n",
    "    courses = students_profile['Maria']\n",
    "    if 'ML' in courses:\n",
    "        courses.remove('ML')\n",
    "        print(\"Updated courses for Maria:\", courses)\n",
    "    else:\n",
    "        print(\"Maria is enrolled in a different course.\")\n",
    "else:\n",
    "    print(\"Maria is not a student in this class.\")\n"
   ]
  },
  {
   "cell_type": "markdown",
   "id": "a87e49b9",
   "metadata": {},
   "source": [
    "# Question 4.1"
   ]
  },
  {
   "cell_type": "code",
   "execution_count": null,
   "id": "0838911d",
   "metadata": {},
   "outputs": [],
   "source": [
    "string = input(\"Enter a string: \")\n",
    "substring = input(\"Enter a substring to search for: \")\n",
    "\n",
    "if substring in string:\n",
    "    print(\"Substring is present in the string.\")\n",
    "else:\n",
    "    print(\"Substring is not present in the string.\")\n"
   ]
  },
  {
   "cell_type": "markdown",
   "id": "8435ca2b",
   "metadata": {},
   "source": [
    "# Question 4.2"
   ]
  },
  {
   "cell_type": "code",
   "execution_count": 14,
   "id": "1b9e25c5",
   "metadata": {},
   "outputs": [
    {
     "name": "stdout",
     "output_type": "stream",
     "text": [
      "Enter a number1\n",
      "L1 norm distance: 9\n"
     ]
    }
   ],
   "source": [
    "import math\n",
    "\n",
    "point1 = (1, 2, 3)\n",
    "point2 = (4, 5, 6)\n",
    "order = int(input(\"Enter a number\"))\n",
    "\n",
    "if order == 1:\n",
    "    # L1 norm (Manhattan distance)\n",
    "    distance = sum(abs(a - b) for a, b in zip(point1, point2))\n",
    "    print(\"L1 norm distance:\", distance)\n",
    "elif order == 2:\n",
    "    # L2 norm (Euclidean distance)\n",
    "    distance = math.sqrt(sum((a - b) ** 2 for a, b in zip(point1, point2)))\n",
    "    print(\"L2 norm distance:\", distance)\n",
    "else:\n",
    "    # Generalized distance (Minkowski equation)\n",
    "    distance = math.pow(sum(math.pow(abs(a - b), order) for a, b in zip(point1, point2)), 1/order)\n",
    "    print(\"Generalized distance:\", distance)\n"
   ]
  },
  {
   "cell_type": "markdown",
   "id": "a722a77e",
   "metadata": {},
   "source": [
    "# Question 4.3 (Loop)"
   ]
  },
  {
   "cell_type": "markdown",
   "id": "eb17572d",
   "metadata": {},
   "source": [
    "# For loop"
   ]
  },
  {
   "cell_type": "code",
   "execution_count": null,
   "id": "3d9c8703",
   "metadata": {},
   "outputs": [],
   "source": [
    "for i in range(10):\n",
    "    print(i)\n"
   ]
  },
  {
   "cell_type": "code",
   "execution_count": null,
   "id": "b6802ee0",
   "metadata": {},
   "outputs": [],
   "source": [
    "fruits = [\"apple\", \"banana\", \"cherry\"]\n",
    "for fruit in fruits:\n",
    "    print(fruit)\n"
   ]
  },
  {
   "cell_type": "code",
   "execution_count": null,
   "id": "00c3c246",
   "metadata": {},
   "outputs": [],
   "source": [
    "person = {\"name\": \"John\", \"age\": 36, \"country\": \"USA\"}\n",
    "for key, value in person.items():\n",
    "    print(key, value)\n"
   ]
  },
  {
   "cell_type": "markdown",
   "id": "4591cbbb",
   "metadata": {},
   "source": [
    "# While Loop"
   ]
  },
  {
   "cell_type": "code",
   "execution_count": 2,
   "id": "fb1d6a93",
   "metadata": {},
   "outputs": [
    {
     "name": "stdout",
     "output_type": "stream",
     "text": [
      "apple\n",
      "banana\n"
     ]
    }
   ],
   "source": [
    "fruits = [\"apple\", \"banana\", \"cherry\"]\n",
    "i = 0\n",
    "while fruits[i] != \"cherry\":\n",
    "    print(fruits[i])\n",
    "    i += 1\n"
   ]
  },
  {
   "cell_type": "code",
   "execution_count": null,
   "id": "c5aaa004",
   "metadata": {},
   "outputs": [],
   "source": [
    "while True:\n",
    "    user_input = input(\"Enter a number (or 'q' to quit): \")\n",
    "    if user_input == \"q\":\n",
    "        break\n",
    "    else:\n",
    "        number = int(user_input)\n",
    "        print(\"The square of\", number, \"is\", number ** 2)\n"
   ]
  },
  {
   "cell_type": "markdown",
   "id": "be0719c7",
   "metadata": {},
   "source": [
    "# 4.4 Table with while Loop"
   ]
  },
  {
   "cell_type": "code",
   "execution_count": 17,
   "id": "cc93dd44",
   "metadata": {},
   "outputs": [
    {
     "name": "stdout",
     "output_type": "stream",
     "text": [
      "Enter a number: 77\n",
      "77 x 1 = 77\n",
      "77 x 2 = 154\n",
      "77 x 3 = 231\n",
      "77 x 4 = 308\n",
      "77 x 5 = 385\n",
      "77 x 6 = 462\n",
      "77 x 7 = 539\n",
      "77 x 8 = 616\n",
      "77 x 9 = 693\n",
      "77 x 10 = 770\n"
     ]
    }
   ],
   "source": [
    "number = int(input(\"Enter a number: \"))\n",
    "\n",
    "# Using a for loop\n",
    "for i in range(1, 11):\n",
    "    product = number * i\n",
    "    print(number, \"x\", i, \"=\", product)\n"
   ]
  },
  {
   "cell_type": "markdown",
   "id": "dc0aeb98",
   "metadata": {},
   "source": [
    "# 4.4 Table with while Loop"
   ]
  },
  {
   "cell_type": "code",
   "execution_count": 16,
   "id": "b0e6ae31",
   "metadata": {},
   "outputs": [
    {
     "name": "stdout",
     "output_type": "stream",
     "text": [
      "Enter a number: 55\n",
      "55 x 1 = 55\n",
      "55 x 2 = 110\n",
      "55 x 3 = 165\n",
      "55 x 4 = 220\n",
      "55 x 5 = 275\n",
      "55 x 6 = 330\n",
      "55 x 7 = 385\n",
      "55 x 8 = 440\n",
      "55 x 9 = 495\n",
      "55 x 10 = 550\n"
     ]
    }
   ],
   "source": [
    "number = int(input(\"Enter a number: \"))\n",
    "\n",
    "# Using a while loop\n",
    "i = 1\n",
    "while i <= 10:\n",
    "    product = number * i\n",
    "    print(number, \"x\", i, \"=\", product)\n",
    "    i += 1\n"
   ]
  },
  {
   "cell_type": "markdown",
   "id": "46eda8c4",
   "metadata": {},
   "source": [
    "# 4.5 (DNA)"
   ]
  },
  {
   "cell_type": "code",
   "execution_count": 18,
   "id": "f8e0b92e",
   "metadata": {},
   "outputs": [
    {
     "name": "stdout",
     "output_type": "stream",
     "text": [
      "TTAGGCTTTTAAGCCCTTAAAAGCGCA\n"
     ]
    }
   ],
   "source": [
    "dna_template = 'AATCCGAAAATTCGGGAATTTTCGCGT'\n",
    "mapper = {\"T\": \"A\", \"A\": \"T\", \"G\": \"C\", \"C\": \"G\"}\n",
    "\n",
    "# Convert the template string to a list of individual characters\n",
    "dna_template_list = list(dna_template)\n",
    "\n",
    "# Generate the complementary DNA template\n",
    "complementary_dna_template = ''\n",
    "for base in dna_template_list:\n",
    "    complementary_base = mapper[base]\n",
    "    complementary_dna_template += complementary_base\n",
    "\n",
    "print(complementary_dna_template)\n"
   ]
  },
  {
   "cell_type": "code",
   "execution_count": null,
   "id": "56cd0122",
   "metadata": {},
   "outputs": [],
   "source": []
  },
  {
   "cell_type": "markdown",
   "id": "e56b56c9",
   "metadata": {},
   "source": [
    "# 5.1 Generate the list f_series"
   ]
  },
  {
   "cell_type": "code",
   "execution_count": 5,
   "id": "dab6a85c",
   "metadata": {},
   "outputs": [
    {
     "name": "stdout",
     "output_type": "stream",
     "text": [
      "[0, 1, 1, 2, 3, 5, 8, 13, 21, 34, 55, 89, 144]\n"
     ]
    }
   ],
   "source": [
    "x = [0, 1] # First two numbers in the series\n",
    "n = 12 # Number of elements to generate\n",
    "for i in range(2, n+1):\n",
    "    x.append(x[i-1] + x[i-2])\n",
    "\n",
    "print(x)\n"
   ]
  },
  {
   "cell_type": "markdown",
   "id": "d9da3ce4",
   "metadata": {},
   "source": [
    "# 5.2 Prime Number"
   ]
  },
  {
   "cell_type": "code",
   "execution_count": 20,
   "id": "3e215f05",
   "metadata": {},
   "outputs": [
    {
     "name": "stdout",
     "output_type": "stream",
     "text": [
      "[2, 3, 5, 7, 11, 13, 17, 19, 23, 29]\n"
     ]
    }
   ],
   "source": [
    "def is_prime(num):\n",
    "    \"\"\"\n",
    "    Helper function to check if a number is prime.\n",
    "    \"\"\"\n",
    "    if num <= 1:\n",
    "        return False\n",
    "    for i in range(2, int(num**0.5) + 1):\n",
    "        if num % i == 0:\n",
    "            return False\n",
    "    return True\n",
    "\n",
    "def generate_prime_numbers(n):\n",
    "    \"\"\"\n",
    "    Function to generate a list of n prime numbers.\n",
    "    \"\"\"\n",
    "    primes = []\n",
    "    i = 2\n",
    "    while len(primes) < n:\n",
    "        if is_prime(i):\n",
    "            primes.append(i)\n",
    "        i += 1\n",
    "    return primes\n",
    "\n",
    "# Example usage\n",
    "n = 10\n",
    "prime_numbers = generate_prime_numbers(n)\n",
    "print(prime_numbers)\n"
   ]
  },
  {
   "cell_type": "markdown",
   "id": "98d96c6c",
   "metadata": {},
   "source": [
    "# Question 6.3 (Factorial)"
   ]
  },
  {
   "cell_type": "code",
   "execution_count": 1,
   "id": "27ea452d",
   "metadata": {},
   "outputs": [
    {
     "name": "stdout",
     "output_type": "stream",
     "text": [
      "number 5\n",
      "Factorial of number is  120\n"
     ]
    }
   ],
   "source": [
    "n = int(input(\"number \"))\n",
    "def factorial(n):\n",
    "    # initialize factorial to 1\n",
    "    factorial = 1\n",
    "    \n",
    "    # loop through integers from 1 to n (inclusive)\n",
    "    for i in range(1, n+1):\n",
    "        # multiply factorial by the current integer\n",
    "        factorial *= i\n",
    "    \n",
    "    # return the final factorial\n",
    "    return factorial\n",
    "print(\"Factorial of number is \", factorial(n))"
   ]
  },
  {
   "cell_type": "markdown",
   "id": "a0148adb",
   "metadata": {},
   "source": [
    "# Question 6 (Minmax Normalization)"
   ]
  },
  {
   "cell_type": "code",
   "execution_count": 7,
   "id": "b0846024",
   "metadata": {},
   "outputs": [
    {
     "name": "stdout",
     "output_type": "stream",
     "text": [
      "[0.0, 0.17582417582417584, 0.12087912087912088, 0.15384615384615385, 0.31868131868131866, 0.6483516483516484, 0.5164835164835165, 0.5494505494505495, 0.967032967032967, 1.0, 0.5824175824175825, 0.07692307692307693]\n"
     ]
    }
   ],
   "source": [
    "#For Data 1\n",
    "data1 = [1,17,12,15,30,60,48,51,89,92,54,8]\n",
    "\n",
    "# Find the minimum and maximum values of data1\n",
    "X_min = min(data1)\n",
    "X_max = max(data1)\n",
    "\n",
    "# Normalize data1 to the range [0,1]\n",
    "data1_normalized = [(x - X_min) / (X_max - X_min) for x in data1]\n",
    "\n",
    "# Print the normalized data1\n",
    "print(data1_normalized)\n"
   ]
  },
  {
   "cell_type": "code",
   "execution_count": 8,
   "id": "b6311ce9",
   "metadata": {},
   "outputs": [
    {
     "name": "stdout",
     "output_type": "stream",
     "text": [
      "[-0.2962962962962963, 0.2592592592592593, 0.14814814814814814, 0.4444444444444444, 1.0, -1.0, 0.37037037037037046, 0.7407407407407407, -0.14814814814814814, 0.6666666666666667, 0.2962962962962963, 0.11111111111111116]\n"
     ]
    }
   ],
   "source": [
    "#For Data 2\n",
    "data2 = [-13,2,-1,7,22,-32,5,15,-9,13,3,-2]\n",
    "\n",
    "# Find the minimum and maximum values of data2\n",
    "X_min = min(data2)\n",
    "X_max = max(data2)\n",
    "\n",
    "# Normalize data2 to the range [-1,1]\n",
    "data2_normalized = [2 * (x - X_min) / (X_max - X_min) - 1 for x in data2]\n",
    "\n",
    "# Print the normalized data2\n",
    "print(data2_normalized)\n",
    "\n"
   ]
  },
  {
   "cell_type": "markdown",
   "id": "ef773bee",
   "metadata": {},
   "source": [
    "# (bubble,selection,insertion)"
   ]
  },
  {
   "cell_type": "code",
   "execution_count": 8,
   "id": "91c046b9",
   "metadata": {},
   "outputs": [
    {
     "name": "stdout",
     "output_type": "stream",
     "text": [
      "Bubble Sort Time: 14.964797735214233\n",
      "Slection Sort Time: 12.592183351516724\n",
      "Insertion Sort Time: 0.0\n"
     ]
    }
   ],
   "source": [
    "import time\n",
    "import random\n",
    "\n",
    "# Bubble Sort Implementation\n",
    "def bubble_sort(arr):\n",
    "    n = len(arr)\n",
    "    for i in range(n):\n",
    "        for j in range(0, n-i-1):\n",
    "            if arr[j] > arr[j+1]:\n",
    "                arr[j], arr[j+1] = arr[j+1], arr[j]\n",
    "    return arr\n",
    "\n",
    "# Selection Sort Implementation\n",
    "def selection_sort(arr):\n",
    "    n = len(arr)\n",
    "    for i in range(n):\n",
    "        min_idx = i\n",
    "        for j in range(i+1, n):\n",
    "            if arr[min_idx] > arr[j]:\n",
    "                min_idx = j\n",
    "        arr[i], arr[min_idx] = arr[min_idx], arr[i]\n",
    "    return arr\n",
    "\n",
    "# Insertion Sort Implementation\n",
    "def insertion_sort(arr):\n",
    "    n = len(arr)\n",
    "    for i in range(1, n):\n",
    "        key = arr[i]\n",
    "        j = i - 1\n",
    "        while j >= 0 and key < arr[j]:\n",
    "            arr[j + 1] = arr[j]\n",
    "            j -= 1\n",
    "        arr[j + 1] = key\n",
    "    return arr\n",
    "\n",
    "# Generate a random list of integers\n",
    "n = 10000\n",
    "arr = [random.randint(0, 1000) for i in range(n)]\n",
    "\n",
    "# Measure the time taken by Bubble Sort\n",
    "start_time = time.time()\n",
    "sorted_arr = bubble_sort(arr)\n",
    "end_time = time.time()\n",
    "print(\"Bubble Sort Time:\", end_time - start_time)\n",
    "\n",
    "# Measure the time taken by Selection Sort\n",
    "start_time = time.time()\n",
    "sorted_arr = selection_sort(arr)\n",
    "end_time = time.time()\n",
    "print(\"Slection Sort Time:\", end_time - start_time)\n",
    "\n",
    "# Measure the time taken by Insertion Sort\n",
    "start_time = time.time()\n",
    "sorted_arr = insertion_sort(arr)\n",
    "end_time = time.time()\n",
    "print(\"Insertion Sort Time:\", end_time - start_time)"
   ]
  },
  {
   "cell_type": "markdown",
   "id": "c0bb3a6a",
   "metadata": {},
   "source": [
    "# activation_function"
   ]
  },
  {
   "cell_type": "code",
   "execution_count": 10,
   "id": "180d54e2",
   "metadata": {},
   "outputs": [
    {
     "data": {
      "text/plain": [
       "0.8807970779778823"
      ]
     },
     "execution_count": 10,
     "metadata": {},
     "output_type": "execute_result"
    }
   ],
   "source": [
    "import math\n",
    "\n",
    "def activation_function(name, value):\n",
    "    \n",
    "    if name == 'sigmoid':\n",
    "        return 1 / (1 + math.exp(-value))\n",
    "    elif name == 'binary_step':\n",
    "        return 1 if value >= 0 else 0\n",
    "    elif name == 'relu':\n",
    "        return max(0, value)\n",
    "    elif name == 'leaky_relu':\n",
    "        return max(0.1 * value, value)\n",
    "    elif name == 'tanh':\n",
    "        return math.tanh(value)\n",
    "    else:\n",
    "        raise ValueError('Unknown activation function: ' + name)\n",
    "        \n",
    "activation_function('sigmoid', 2)"
   ]
  },
  {
   "cell_type": "markdown",
   "id": "ee137804",
   "metadata": {},
   "source": [
    "# Positional arguments"
   ]
  },
  {
   "cell_type": "code",
   "execution_count": 11,
   "id": "9cbaa59b",
   "metadata": {},
   "outputs": [
    {
     "name": "stdout",
     "output_type": "stream",
     "text": [
      "Positional arguments:\n",
      "1\n",
      "2\n",
      "3\n",
      "\n",
      "Keyword arguments:\n",
      "name: Alice\n",
      "age: 30\n"
     ]
    }
   ],
   "source": [
    "def my_function(*args, **kwargs):\n",
    "    print(\"Positional arguments:\")\n",
    "    for arg in args:\n",
    "        print(arg)\n",
    "        \n",
    "    print(\"\\nKeyword arguments:\")\n",
    "    for key, value in kwargs.items():\n",
    "        print(f\"{key}: {value}\")\n",
    "my_function(1, 2, 3, name=\"Alice\", age=30)\n"
   ]
  },
  {
   "cell_type": "markdown",
   "id": "1c3d0a52",
   "metadata": {},
   "source": [
    "# scope of variables: LEGB Rule"
   ]
  },
  {
   "cell_type": "code",
   "execution_count": 20,
   "id": "52ac9163",
   "metadata": {},
   "outputs": [
    {
     "name": "stdout",
     "output_type": "stream",
     "text": [
      "Hello, world!\n",
      "Inner function: 2\n",
      "Outer function: 2\n",
      "global\n",
      "Built - in\n"
     ]
    }
   ],
   "source": [
    "# 1 - Local variable\n",
    "def my_function():\n",
    "    \n",
    "    # This variable is local to the function\n",
    "    message = \"Hello, world!\"\n",
    "    print(message)\n",
    "\n",
    "my_function()\n",
    "\n",
    "# 2 - Enclosing variable:\n",
    "def outer_function():\n",
    "    # This variable is defined in the outer function\n",
    "    x = 1\n",
    "    \n",
    "    def inner_function():\n",
    "        # This variable is nonlocal to the inner function\n",
    "        nonlocal x\n",
    "        x = 2\n",
    "        print(\"Inner function:\", x)\n",
    "    \n",
    "    inner_function()\n",
    "    print(\"Outer function:\", x)\n",
    "\n",
    "outer_function()  \n",
    "\n",
    "# 3 - Global variable:\n",
    "x = 'global'\n",
    "def my_function():\n",
    "    print(x)\n",
    "\n",
    "my_function()  # Output: 1\n",
    "\n",
    "# 3 - Built-in variable:\n",
    "def my_function():\n",
    "    print(\"Built - in\")\n",
    "\n",
    "my_function()"
   ]
  }
 ],
 "metadata": {
  "kernelspec": {
   "display_name": "Python 3 (ipykernel)",
   "language": "python",
   "name": "python3"
  },
  "language_info": {
   "codemirror_mode": {
    "name": "ipython",
    "version": 3
   },
   "file_extension": ".py",
   "mimetype": "text/x-python",
   "name": "python",
   "nbconvert_exporter": "python",
   "pygments_lexer": "ipython3",
   "version": "3.9.13"
  }
 },
 "nbformat": 4,
 "nbformat_minor": 5
}
