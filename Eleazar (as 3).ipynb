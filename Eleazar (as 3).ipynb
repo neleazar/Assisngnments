{
 "cells": [
  {
   "cell_type": "markdown",
   "id": "7a203079",
   "metadata": {},
   "source": [
    "# Higher order functions Python:"
   ]
  },
  {
   "cell_type": "markdown",
   "id": "c3dfbc77",
   "metadata": {},
   "source": [
    "# square() and product("
   ]
  },
  {
   "cell_type": "code",
   "execution_count": 7,
   "id": "46b85651",
   "metadata": {},
   "outputs": [
    {
     "name": "stdout",
     "output_type": "stream",
     "text": [
      "output is: 25 15\n"
     ]
    }
   ],
   "source": [
    "# Defining Functions\n",
    "def square(num):\n",
    "    \"\"\"\n",
    "    Takes a number as input and returns its square.\n",
    "    \"\"\"\n",
    "    return num ** 2\n",
    "\n",
    "def product(num1, num2):\n",
    "    \"\"\"\n",
    "    Takes two numbers as input and returns their product.\n",
    "    \"\"\"\n",
    "    return num1 * num2\n",
    "\n",
    "# Calling Function\n",
    "print(\"output is:\",square(5),product(3, 5))"
   ]
  },
  {
   "cell_type": "markdown",
   "id": "d49e71d6",
   "metadata": {},
   "source": [
    "# map()"
   ]
  },
  {
   "cell_type": "code",
   "execution_count": 8,
   "id": "85abdf93",
   "metadata": {},
   "outputs": [
    {
     "name": "stdout",
     "output_type": "stream",
     "text": [
      "Original list: [1, 2, 3, 4, 5]\n",
      "Squared list: [1, 4, 9, 16, 25]\n"
     ]
    }
   ],
   "source": [
    "# Define a list of integers\n",
    "numbers = [1, 2, 3, 4, 5]\n",
    "\n",
    "# Define a square function\n",
    "def square(x):\n",
    "    return x ** 2\n",
    "\n",
    "# Use the map function to apply square to each element of the numbers list\n",
    "squared_numbers = map(square, numbers)\n",
    "\n",
    "# Convert the map object to a list\n",
    "squared_numbers_list = list(squared_numbers)\n",
    "\n",
    "# Print the original and squared numbers lists\n",
    "print(\"Original list:\", numbers)\n",
    "print(\"Squared list:\", squared_numbers_list)\n"
   ]
  },
  {
   "cell_type": "markdown",
   "id": "3c76b231",
   "metadata": {},
   "source": [
    "# filter()"
   ]
  },
  {
   "cell_type": "code",
   "execution_count": null,
   "id": "257564e6",
   "metadata": {},
   "outputs": [],
   "source": [
    "# Define a list of integers\n",
    "numbers = [1, 2, 3, 4, 5]\n",
    "\n",
    "# Use the filter function to remove odd numbers from the list\n",
    "even_numbers = filter(lambda x: x % 2 == 0, numbers)\n",
    "\n",
    "# Convert the filter object to a list\n",
    "even_numbers_list = list(even_numbers)\n",
    "\n",
    "# Print the original and filtered lists\n",
    "print(\"Original list:\", numbers)\n",
    "print(\"Even numbers list:\", even_numbers_list)\n"
   ]
  },
  {
   "cell_type": "markdown",
   "id": "ef29aca1",
   "metadata": {},
   "source": [
    "# reduce()"
   ]
  },
  {
   "cell_type": "code",
   "execution_count": null,
   "id": "7f879803",
   "metadata": {},
   "outputs": [],
   "source": [
    "from functools import reduce\n",
    "\n",
    "# Define a list of integers\n",
    "numbers = [1, 2, 3, 4, 5]\n",
    "\n",
    "# Define a function to multiply two numbers\n",
    "def product(x, y):\n",
    "    return x * y\n",
    "\n",
    "# Use filter to extract even numbers from the list\n",
    "evens = filter(lambda x: x % 2 == 0, numbers)\n",
    "\n",
    "# Use reduce to find the product of all even numbers in the list\n",
    "product_of_evens = reduce(product, evens)\n",
    "\n",
    "# Print the original list and the product of even numbers\n",
    "print(\"Original list:\", numbers)\n",
    "print(\"Product of even numbers:\", product_of_evens)\n"
   ]
  }
 ],
 "metadata": {
  "kernelspec": {
   "display_name": "Python 3 (ipykernel)",
   "language": "python",
   "name": "python3"
  },
  "language_info": {
   "codemirror_mode": {
    "name": "ipython",
    "version": 3
   },
   "file_extension": ".py",
   "mimetype": "text/x-python",
   "name": "python",
   "nbconvert_exporter": "python",
   "pygments_lexer": "ipython3",
   "version": "3.9.13"
  }
 },
 "nbformat": 4,
 "nbformat_minor": 5
}
